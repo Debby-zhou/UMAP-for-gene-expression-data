{
 "cells": [
  {
   "cell_type": "markdown",
   "metadata": {},
   "source": [
    "### 指定參數"
   ]
  },
  {
   "cell_type": "code",
   "execution_count": 1,
   "metadata": {},
   "outputs": [
    {
     "name": "stdout",
     "output_type": "stream",
     "text": [
      "time: 612 µs (started: 2021-06-09 12:59:55 +08:00)\n"
     ]
    }
   ],
   "source": [
    "#輸出圖檔名、圖檔大小############\n",
    "%load_ext autotime\n",
    "figure_name = \"n_neighbors_10_min_dist_0.99_result\"\n",
    "dot_size = 3\n",
    "length, width = 8, 12\n",
    "n_neighbors = 10\n",
    "min_dist = 0.99\n",
    "metric = 'euclidean'"
   ]
  },
  {
   "cell_type": "markdown",
   "metadata": {},
   "source": [
    "### 導入套件"
   ]
  },
  {
   "cell_type": "code",
   "execution_count": 2,
   "metadata": {},
   "outputs": [
    {
     "name": "stdout",
     "output_type": "stream",
     "text": [
      "time: 14.1 s (started: 2021-06-09 12:59:55 +08:00)\n"
     ]
    }
   ],
   "source": [
    "import pandas as pd\n",
    "import numpy as np\n",
    "import matplotlib.pyplot as plt\n",
    "from matplotlib.axes._axes import _log as matplotlib_axes_logger\n",
    "import umap.umap_ as umap\n",
    "from sklearn.cluster import KMeans\n",
    "from sklearn.metrics import silhouette_score"
   ]
  },
  {
   "cell_type": "markdown",
   "metadata": {},
   "source": [
    "### 資料前處理"
   ]
  },
  {
   "cell_type": "code",
   "execution_count": 3,
   "metadata": {},
   "outputs": [
    {
     "name": "stdout",
     "output_type": "stream",
     "text": [
      "time: 14.7 s (started: 2021-06-09 13:00:09 +08:00)\n"
     ]
    }
   ],
   "source": [
    "data = pd.read_excel(\"./GTEx_NPC_data.xlsx\", engine='openpyxl', header = None, index_col=0)\n",
    "data = data.to_numpy()\n",
    "label_data = pd.read_excel(\"./GTEx_NPC_data.xlsx\", engine='openpyxl', header = None, index_col=None, usecols = \"A\")\n",
    "label_data = label_data.to_numpy().flatten()\n",
    "row_sums = data.sum(axis=1)\n",
    "normalize_data = data / row_sums[:, np.newaxis]"
   ]
  },
  {
   "cell_type": "markdown",
   "metadata": {},
   "source": [
    "### UMAP參數修改"
   ]
  },
  {
   "cell_type": "code",
   "execution_count": 4,
   "metadata": {},
   "outputs": [
    {
     "name": "stdout",
     "output_type": "stream",
     "text": [
      "time: 18.5 s (started: 2021-06-09 13:00:24 +08:00)\n"
     ]
    }
   ],
   "source": [
    "umap_x = umap.UMAP(n_neighbors=n_neighbors, min_dist=min_dist, n_components=2, metric=metric).fit_transform(normalize_data)"
   ]
  },
  {
   "cell_type": "markdown",
   "metadata": {},
   "source": [
    "### 畫圖前處理"
   ]
  },
  {
   "cell_type": "code",
   "execution_count": 5,
   "metadata": {},
   "outputs": [
    {
     "name": "stdout",
     "output_type": "stream",
     "text": [
      "time: 36.7 ms (started: 2021-06-09 13:00:43 +08:00)\n"
     ]
    }
   ],
   "source": [
    "matplotlib_axes_logger.setLevel('ERROR')\n",
    "number = np.unique(label_data).shape[0]\n",
    "cmap = plt.get_cmap('rainbow')\n",
    "colors = [cmap(i) for i in np.linspace(0, 1, number)]\n",
    "color_dic = {}\n",
    "cancers = np.unique(label_data).tolist()\n",
    "for i in range(number):\n",
    "    color_dic[cancers[i]] = colors[i]\n",
    "x_dot = umap_x[:,0]\n",
    "y_dot = umap_x[:,1]\n",
    "\n",
    "dx = pd.DataFrame(x_dot, columns=['x'])\n",
    "dy = pd.DataFrame(y_dot, columns=['y'])\n",
    "df = pd.concat((dx, dy), axis=1)"
   ]
  },
  {
   "cell_type": "markdown",
   "metadata": {},
   "source": [
    "### 輪廓係數法\n",
    "- 用以找出最適合的K個clusters\n",
    "- silhouette score = (b-a)/max(a,b)<br>\n",
    "- silhoutte可找出同群資料點內最近/不同群越分散的值，b為不同群之間的點平均距離、a為同群之間的點距離"
   ]
  },
  {
   "cell_type": "code",
   "execution_count": null,
   "metadata": {},
   "outputs": [],
   "source": [
    "silhouette_avg = []\n",
    "# 總共有30種tissues\n",
    "for k in range(20,31):\n",
    "    kmeans = KMeans(n_clusters=k).fit(df)\n",
    "    labels = kmeans.labels_\n",
    "    centers = kmeans.cluster_centers_\n",
    "    silhouette_avg.append(silhouette_score(df, labels))\n",
    "print(silhouette_avg)"
   ]
  },
  {
   "cell_type": "markdown",
   "metadata": {},
   "source": [
    "### K-means\n",
    "- 將二維資料使用上格最適合的cluster number分群\n",
    "- 分群結果存入kmeans變數"
   ]
  },
  {
   "cell_type": "code",
   "execution_count": null,
   "metadata": {},
   "outputs": [],
   "source": [
    "n_clusters = 20 + silhouette_avg.index(max(silhouette_avg))\n",
    "kmeans = KMeans(n_clusters=n_clusters).fit(df)\n",
    "labels = kmeans.labels_\n",
    "centers = kmeans.cluster_centers_"
   ]
  },
  {
   "cell_type": "markdown",
   "metadata": {},
   "source": [
    "### 畫圖\n",
    "1.umap降為後結果圖<br>\n",
    "2.輪廓係數法得到最適合的K<br>\n",
    "3.Kmeans分群結果圖<br>"
   ]
  },
  {
   "cell_type": "code",
   "execution_count": null,
   "metadata": {},
   "outputs": [],
   "source": [
    "\n",
    "fig = plt.figure(figsize=(width,3*length), dpi=200)\n",
    "ax = plt.subplot(311)\n",
    "plt.grid(False)\n",
    "for g in np.unique(label_data):\n",
    "\tix = np.where(label_data == g)\n",
    "\tax.scatter(x_dot[ix], y_dot[ix], c = color_dic[g], label = g, s = dot_size)\n",
    "ax.set_title('n_neighbors=' + str(n_neighbors) + ', min_dist=' + str(min_dist) + ', n_components=2' + ', metric=' + metric)\n",
    "ax.legend(bbox_to_anchor=(1.05, 0), loc=3, borderaxespad=0)\n",
    "\n",
    "plt.subplot(312)\n",
    "plt.grid(False)\n",
    "plt.title(\"Silhouette score\")\n",
    "plt.plot(range(20,31), silhouette_avg)\n",
    "plt.xticks(range(20,31))\n",
    "\n",
    "ax = plt.subplot(313)\n",
    "plt.grid(False)\n",
    "for i,g in zip(range(n_clusters),np.unique(label_data)):\n",
    "\tax.scatter(df[labels==i].x, df[labels==i].y, c = color_dic[g], label = i, s = dot_size)\n",
    "plt.scatter(centers.T[0], centers.T[1], c='black', marker='^', s=dot_size)\n",
    "for j in range(centers.shape[0]):\n",
    "    plt.text(centers.T[0][j], centers.T[1][j], str(j), fontdict={'color': 'black', 'weight': 'bold', 'size': 12})\n",
    "ax.set_title(\"Kmeans = \" + str(n_clusters) + \" groups\")\n",
    "ax.legend(bbox_to_anchor=(1.05, 0), loc=3, borderaxespad=0)\n",
    "plt.savefig(\"./result/%s.jpg\" % figure_name, dpi=300, bbox_inches = 'tight')"
   ]
  },
  {
   "cell_type": "markdown",
   "metadata": {},
   "source": [
    "### Kmeans分群結果和組織分類是否高度重疊\n",
    "使用tissue和cluster交集/tissue來看重疊性"
   ]
  },
  {
   "cell_type": "code",
   "execution_count": null,
   "metadata": {},
   "outputs": [],
   "source": [
    "result = np.zeros(120).reshape(30,4)\n",
    "column_name = ['main_cluster','cluster_size','tissue_size','percentage']\n",
    "type_list = []\n",
    "tissue = pd.DataFrame(label_data, columns=['tissue'])\n",
    "cluster = pd.DataFrame(labels, columns=['cluster'])\n",
    "df_all = pd.concat((df,tissue,cluster), axis=1)\n",
    "tissue_group = df_all.groupby('tissue')\n",
    "tissue_types = tissue.drop_duplicates(ignore_index=True)\n",
    "for i in range(tissue_types.size):\n",
    "    type = tissue_types.tissue[i]\n",
    "    type_list.append(type)\n",
    "    tissue_size = tissue_group.get_group(type).groupby('cluster').size()\n",
    "    arg_max = tissue_size.argmax()\n",
    "    max_cluster_value = tissue_size.max()\n",
    "    index_max = tissue_size.index[arg_max]\n",
    "    tissue_sum = tissue_size.sum()\n",
    "    percent = max_cluster_value/tissue_sum\n",
    "    result[i] = [arg_max, max_cluster_value, tissue_sum, percent]\n",
    "df_result = pd.DataFrame(result, columns=column_name)\n",
    "for i in column_name:\n",
    "    df_result[i] = pd.to_numeric(df_result[i], downcast='integer')\n",
    "df_tissue = pd.DataFrame(type_list, columns=['tissue'])\n",
    "df_result = pd.concat((df_tissue, df_result), axis=1)\n",
    "df_result"
   ]
  },
  {
   "cell_type": "code",
   "execution_count": null,
   "metadata": {},
   "outputs": [],
   "source": [
    "import seaborn as sns\n",
    "medians = df_result.percentage.median()\n",
    "print(medians)\n",
    "plt.grid(False)\n",
    "sns.set(style=\"whitegrid\")\n",
    "ax = sns.boxplot(y=df_result.percentage, orient=\"v\", color=\"skyblue\", width=0.1, linewidth=3) \n",
    "ax = sns.swarmplot(y = df_result.percentage, color = \"black\") \n",
    "ax.set_title(\"neighbors=10, min_dist=0.1\")\n",
    "plt.savefig(\"./result/%s_boxplot.jpg\" % figure_name, dpi=300, bbox_inches = 'tight')"
   ]
  },
  {
   "cell_type": "code",
   "execution_count": null,
   "metadata": {},
   "outputs": [],
   "source": []
  }
 ],
 "metadata": {
  "kernelspec": {
   "display_name": "Python 3",
   "language": "python",
   "name": "python3"
  },
  "language_info": {
   "codemirror_mode": {
    "name": "ipython",
    "version": 3
   },
   "file_extension": ".py",
   "mimetype": "text/x-python",
   "name": "python",
   "nbconvert_exporter": "python",
   "pygments_lexer": "ipython3",
   "version": "3.8.5"
  }
 },
 "nbformat": 4,
 "nbformat_minor": 4
}
