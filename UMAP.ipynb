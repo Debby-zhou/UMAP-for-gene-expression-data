{
 "cells": [
  {
   "cell_type": "code",
   "execution_count": 1,
   "metadata": {},
   "outputs": [
    {
     "name": "stdout",
     "output_type": "stream",
     "text": [
      "time: 428 µs (started: 2021-06-07 17:23:13 +08:00)\n"
     ]
    }
   ],
   "source": [
    "#輸出圖檔名、圖檔大小############\n",
    "%load_ext autotime\n",
    "figure_name = \"n_neighbors_10_min_dist_0.99_result\"\n",
    "dot_size = 3\n",
    "length, width = 8, 12\n",
    "n_neighbors = 10\n",
    "min_dist = 0.99\n",
    "n_components = 2\n",
    "metric = 'euclidean'"
   ]
  },
  {
   "cell_type": "code",
   "execution_count": 2,
   "metadata": {},
   "outputs": [
    {
     "name": "stdout",
     "output_type": "stream",
     "text": [
      "time: 15 s (started: 2021-06-07 17:23:13 +08:00)\n"
     ]
    }
   ],
   "source": [
    "import pandas as pd\n",
    "import numpy as np\n",
    "import matplotlib.pyplot as plt\n",
    "import umap.umap_ as umap\n",
    "from sklearn.cluster import KMeans\n",
    "from sklearn.metrics import silhouette_score"
   ]
  },
  {
   "cell_type": "code",
   "execution_count": 3,
   "metadata": {},
   "outputs": [
    {
     "name": "stdout",
     "output_type": "stream",
     "text": [
      "time: 16.3 s (started: 2021-06-07 17:23:28 +08:00)\n"
     ]
    }
   ],
   "source": [
    "data = pd.read_excel(\"./GTEx_NPC_data.xlsx\", engine='openpyxl', header = None, index_col=0)\n",
    "data = data.to_numpy()\n",
    "label_data = pd.read_excel(\"./GTEx_NPC_data.xlsx\", engine='openpyxl', header = None, index_col=None, usecols = \"A\")\n",
    "label_data = label_data.to_numpy().flatten()"
   ]
  },
  {
   "cell_type": "code",
   "execution_count": 4,
   "metadata": {},
   "outputs": [
    {
     "name": "stdout",
     "output_type": "stream",
     "text": [
      "time: 2.72 ms (started: 2021-06-07 17:23:44 +08:00)\n"
     ]
    }
   ],
   "source": [
    "row_sums = data.sum(axis=1)\n",
    "normalize_data = data / row_sums[:, np.newaxis]"
   ]
  },
  {
   "cell_type": "markdown",
   "metadata": {},
   "source": [
    "#### UMAP參數修改"
   ]
  },
  {
   "cell_type": "code",
   "execution_count": null,
   "metadata": {},
   "outputs": [],
   "source": [
    "umap_x = umap.UMAP(n_neighbors=n_neighbors, min_dist=min_dist, n_components=2, metric=metric).fit_transform(normalize_data)"
   ]
  },
  {
   "cell_type": "code",
   "execution_count": null,
   "metadata": {},
   "outputs": [],
   "source": [
    "from matplotlib.axes._axes import _log as matplotlib_axes_logger\n",
    "matplotlib_axes_logger.setLevel('ERROR')\n",
    "\n",
    "number = np.unique(label_data).shape[0]\n",
    "cmap = plt.get_cmap('rainbow')\n",
    "colors = [cmap(i) for i in np.linspace(0, 1, number)]\n",
    "color_dic = {}\n",
    "cancers = np.unique(label_data).tolist()\n",
    "for i in range(number):\n",
    "    color_dic[cancers[i]] = colors[i]\n",
    "x_dot = umap_x[:,0]\n",
    "y_dot = umap_x[:,1]"
   ]
  },
  {
   "cell_type": "code",
   "execution_count": null,
   "metadata": {},
   "outputs": [],
   "source": [
    "dx = pd.DataFrame(x_dot, columns=['x'])\n",
    "dy = pd.DataFrame(y_dot, columns=['y'])\n",
    "df = pd.concat((dx, dy), axis=1)"
   ]
  },
  {
   "cell_type": "code",
   "execution_count": null,
   "metadata": {},
   "outputs": [],
   "source": [
    "silhouette_avg = []\n",
    "# 總共有30種tissues\n",
    "for k in range(20,31):\n",
    "    kmeans = KMeans(n_clusters=k).fit(df)\n",
    "    labels = kmeans.labels_\n",
    "    centers = kmeans.cluster_centers_\n",
    "    # 輪廓係數法\n",
    "    # S = (b-a)/max(a,b) 找出同群資料點內最近/不同群越分散的值\n",
    "    # b為不同群之間的點平均距離、a為同群之間的距離\n",
    "    silhouette_avg.append(silhouette_score(df, labels))\n",
    "print(silhouette_avg)\n"
   ]
  },
  {
   "cell_type": "code",
   "execution_count": null,
   "metadata": {},
   "outputs": [],
   "source": [
    "n_clusters = 20 + silhouette_avg.index(max(silhouette_avg))\n",
    "kmeans = KMeans(n_clusters=n_clusters).fit(df)\n",
    "labels = kmeans.labels_\n",
    "centers = kmeans.cluster_centers_"
   ]
  },
  {
   "cell_type": "code",
   "execution_count": null,
   "metadata": {},
   "outputs": [],
   "source": [
    "fig = plt.figure(figsize=(width,3*length), dpi=200)\n",
    "ax = plt.subplot(311)\n",
    "for g in np.unique(label_data):\n",
    "\tix = np.where(label_data == g)\n",
    "\tax.scatter(x_dot[ix], y_dot[ix], c = color_dic[g], label = g, s = dot_size)\n",
    "ax.set_title('n_neighbors=' + str(n_neighbors) + ', min_dist=' + str(min_dist) + ', n_components=' + str(n_components) + ', metric=' + metric)\n",
    "ax.legend(bbox_to_anchor=(1.05, 0), loc=3, borderaxespad=0)\n",
    "\n",
    "plt.subplot(312)\n",
    "plt.title(\"Silhouette score\")\n",
    "plt.plot(range(20,31), silhouette_avg)\n",
    "plt.xticks(range(20,31))\n",
    "\n",
    "ax = plt.subplot(313)\n",
    "for i,g in zip(range(n_clusters),np.unique(label_data)):\n",
    "\tax.scatter(df[labels==i].x, df[labels==i].y, c = color_dic[g], label = i, s = dot_size)\n",
    "plt.scatter(centers.T[0], centers.T[1], c='black', marker='^', s=dot_size)\n",
    "for j in range(centers.shape[0]):\n",
    "    plt.text(centers.T[0][j], centers.T[1][j], str(j), fontdict={'color': 'black', 'weight': 'bold', 'size': 12})\n",
    "ax.set_title(\"Kmeans = \" + str(n_clusters) + \" groups\")\n",
    "ax.legend(bbox_to_anchor=(1.05, 0), loc=3, borderaxespad=0)\n",
    "plt.savefig(\"./result/%s.jpg\" % figure_name, dpi=300, bbox_inches = 'tight')"
   ]
  },
  {
   "cell_type": "code",
   "execution_count": null,
   "metadata": {},
   "outputs": [],
   "source": []
  }
 ],
 "metadata": {
  "kernelspec": {
   "display_name": "Python 3",
   "language": "python",
   "name": "python3"
  },
  "language_info": {
   "codemirror_mode": {
    "name": "ipython",
    "version": 3
   },
   "file_extension": ".py",
   "mimetype": "text/x-python",
   "name": "python",
   "nbconvert_exporter": "python",
   "pygments_lexer": "ipython3",
   "version": "3.8.5"
  }
 },
 "nbformat": 4,
 "nbformat_minor": 4
}
